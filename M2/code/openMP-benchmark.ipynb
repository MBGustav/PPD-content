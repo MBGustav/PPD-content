{
 "cells": [
  {
   "cell_type": "markdown",
   "metadata": {
    "id": "fFtmehT--VEv"
   },
   "source": [
    "# Universidade Federal de São Carlos\n",
    "# Programação Paralela e Distribuida - Atividade\n",
    "Professores: Hélio"
   ]
  },
  {
   "cell_type": "markdown",
   "metadata": {
    "id": "ENoGuBsv_TIH"
   },
   "source": [
    "## **Atividade**: paralelização da multiplicação de matrizes usando OpenMP\n",
    "\n",
    "O objetivo desta atividade é experimentar a aplicação de diretivas OpenMP para a paralelização do código de um programa que realiza a multiplicação de 2 matrizes.\n",
    "\n",
    "Trata-se de um código em que o maior volume de processamento está relacionado à execução de um conjunto de laços, contendo iterações sem dependências entre si, com oportunidade de divisão das iterações entre múltiplas tarefas.\n",
    "\n",
    "Como há 3 loops aninhados, o desafio é experimentar a divisão de iterações nesses 3 casos, estudando as implicações de cada um deles, incluindo compartilhamento ou não de variáveis, e observar os resultados obtidos."
   ]
  },
  {
   "cell_type": "code",
   "execution_count": 5,
   "metadata": {
    "colab": {
     "base_uri": "https://localhost:8080/"
    },
    "id": "yyon08jk28pC",
    "outputId": "d9fbf8ca-7a7c-40e2-bbc1-7c37028d9c5a"
   },
   "outputs": [
    {
     "name": "stdout",
     "output_type": "stream",
     "text": [
      "[sudo] password for mbgustav: "
     ]
    },
    {
     "name": "stdout",
     "output_type": "stream",
     "text": [
      "\n",
      "time: /usr/bin/time /usr/share/man/man1/time.1.gz /usr/share/man/man7/time.7.gz /usr/share/man/man2/time.2.gz /usr/share/info/time.info.gz\n"
     ]
    }
   ],
   "source": [
    "# Pacote time --> /usr/bin/time (para formatação da saida)\n",
    "!sudo apt install time\n",
    "!whereis time"
   ]
  },
  {
   "cell_type": "markdown",
   "metadata": {
    "id": "D2Rp2pBrCVlF"
   },
   "source": [
    "# Versão sequencial de referência\n",
    "\n",
    "O código a seguir, sequencial, serve como referência para as medidas de tempo para análise do *speedup* e da eficiênia da paralelização. "
   ]
  },
  {
   "cell_type": "code",
   "execution_count": 6,
   "metadata": {
    "colab": {
     "base_uri": "https://localhost:8080/"
    },
    "id": "wncLjw_C9PWN",
    "outputId": "00c58c4e-156f-4c8f-f831-f5c41f35619d"
   },
   "outputs": [
    {
     "name": "stdout",
     "output_type": "stream",
     "text": [
      "CPU op-mode(s):                     32-bit, 64-bit\n",
      "CPU(s):                             8\n",
      "On-line CPU(s) list:                0-7\n",
      "CPU family:                         6\n",
      "CPU max MHz:                        4400,0000\n",
      "CPU min MHz:                        400,0000\n",
      "NUMA node0 CPU(s):                  0-7\n"
     ]
    }
   ],
   "source": [
    "# Para saber sobre o número de processadores existentes\n",
    "! lscpu | grep CPU"
   ]
  },
  {
   "cell_type": "code",
   "execution_count": 36,
   "metadata": {
    "colab": {
     "base_uri": "https://localhost:8080/"
    },
    "id": "9StUGkMa8jMc",
    "outputId": "a6e5ac81-85b1-4197-e026-618d57de6981"
   },
   "outputs": [
    {
     "name": "stdout",
     "output_type": "stream",
     "text": [
      "Overwriting mult-serial.c\n"
     ]
    }
   ],
   "source": [
    "%%writefile mult-serial.c\n",
    "\n",
    "/* mult.c  - Para compilar, use: $ gcc mult-serial.c -o mult-serial -fopenmp */\n",
    "\n",
    "#include <stdlib.h>\n",
    "#include <stdio.h>\n",
    "#include <time.h>\n",
    "\n",
    "#define DIM 1024       // ajuste a dimensão aqui...\n",
    "\n",
    "// matrizes estáticas\n",
    "float A [DIM] [DIM];\n",
    "float B [DIM] [DIM];\n",
    "float C [DIM] [DIM];\n",
    "\n",
    "int\n",
    "main(int argc, char *argv[])\n",
    "{\n",
    "   int i,j,k;\n",
    "\n",
    "   /* Atribuição de valores iniciais (0..1) às matrizes */\n",
    "   srand(time(NULL));\n",
    "   for(i=0; i < DIM; i++)\n",
    "      for(j=0; j < DIM; j++) {\n",
    "         A[i][j]= (float)rand() / (float)RAND_MAX;\n",
    "         B[i][j]= (float)rand() / (float)RAND_MAX;\n",
    "      }\n",
    "\n",
    "   /* Multiplicação tradicional */\n",
    "\n",
    "   for(i=0; i < DIM; i++)\n",
    "      for(j=0; j < DIM; j++) {\n",
    "         C[i][j] = 0;\n",
    "         for(k=0; k < DIM; k++)\n",
    "            C[i][j] = C[i][j] + A[i][k] * B[k][j]; \n",
    "      }\n",
    "\n",
    "  return(0); \n",
    "}"
   ]
  },
  {
   "cell_type": "code",
   "execution_count": 32,
   "metadata": {
    "colab": {
     "base_uri": "https://localhost:8080/"
    },
    "id": "zVzC7ApV8xN8",
    "outputId": "e99a87bc-1ed3-4b58-f7c1-9d43aa5c72e9"
   },
   "outputs": [
    {
     "name": "stdout",
     "output_type": "stream",
     "text": [
      "\n",
      "real\t0m39,787s\n",
      "user\t0m39,531s\n",
      "sys\t0m0,186s\n"
     ]
    }
   ],
   "source": [
    "# Compila programa, se houve alteração no código fonte. \n",
    "# Ah, iportante indicar ao compilador para fazer as otimizações de vetorização, usando -O3\n",
    "! if [ ! mult-serial -nt mult-serial.c ]; then gcc mult-serial.c -o mult-serial -O3; fi\n",
    "# Executa programa, medindo tempos de execução: real = tempo decorrido\n",
    "! time ./mult; rm mult-serial"
   ]
  },
  {
   "cell_type": "markdown",
   "metadata": {
    "id": "J9rPL2XICoIi"
   },
   "source": [
    "# Versão paralela\n",
    "\n",
    "A ideia é alterar o código a seguir, inserindo diretivas OpenMP para paralelização apoiada pelo compilador. \n",
    "## Paralelismo no 1º loop"
   ]
  },
  {
   "cell_type": "code",
   "execution_count": 37,
   "metadata": {
    "colab": {
     "base_uri": "https://localhost:8080/"
    },
    "id": "7sXqis6FAt9o",
    "outputId": "ea734aeb-0428-4c29-da03-727bfd13ea96"
   },
   "outputs": [
    {
     "name": "stdout",
     "output_type": "stream",
     "text": [
      "Writing mult-ext.c\n"
     ]
    }
   ],
   "source": [
    "%%writefile mult-ext.c\n",
    "// Multiplicação com parallel for no loop mais externo\n",
    "\n",
    "/* mult.c  - Para compilar, use: $ gcc mult.c -o mult -fopenmp */\n",
    "\n",
    "#include <stdlib.h>\n",
    "#include <stdio.h>\n",
    "#include <time.h>\n",
    "#include <omp.h>\n",
    "#define DIM 1024       // ajuste a dimensão aqui...\n",
    "\n",
    "// matrizes estáticas\n",
    "float A [DIM] [DIM];\n",
    "float B [DIM] [DIM];\n",
    "float C [DIM] [DIM];\n",
    "\n",
    "int\n",
    "main(int argc, char *argv[])\n",
    "{\n",
    "  int i,j,k;\n",
    "\n",
    "  /* Atribuição de valores iniciais (0..1) às matrizes */\n",
    "  srand(time(NULL));\n",
    "  for(i=0; i < DIM; i++)\n",
    "    for(j=0; j < DIM; j++) {\n",
    "      A[i][j] = (float)rand() / (float)RAND_MAX;\n",
    "      B[i][j] = (float)rand() / (float)RAND_MAX;\n",
    "    }\n",
    "\n",
    "  #pragma omp parallel for private(i, j, k) shared(A,B,C)\n",
    "  for(i=0; i < DIM; i++)\n",
    "    for(j=0; j < DIM; j++) {\n",
    "      C[i][j] = 0;\n",
    "      for(k=0; k < DIM; k++)\n",
    "        C[i][j] = C[i][j] + A[i][k] * B[k][j]; \n",
    "    }\n",
    "\n",
    "  return(0); \n",
    "}"
   ]
  },
  {
   "cell_type": "markdown",
   "metadata": {},
   "source": [
    "## Paralelismo 2º Loop"
   ]
  },
  {
   "cell_type": "code",
   "execution_count": 38,
   "metadata": {
    "colab": {
     "base_uri": "https://localhost:8080/"
    },
    "id": "yB2wFRtb1bQ2",
    "outputId": "f5560c9e-e34a-4cc2-d886-7d0455d55b09"
   },
   "outputs": [
    {
     "name": "stdout",
     "output_type": "stream",
     "text": [
      "Writing mult-mid.c\n"
     ]
    }
   ],
   "source": [
    "%%writefile mult-mid.c\n",
    "// Multiplicação com parallel for no loop intermediario\n",
    "/* mult.c  - Para compilar, use: $ gcc mult.c -o mult -fopenmp */\n",
    "\n",
    "#include <stdlib.h>\n",
    "#include <stdio.h>\n",
    "#include <time.h>\n",
    "#include <omp.h>\n",
    "#define DIM 1024       // ajuste a dimensão aqui...\n",
    "\n",
    "// matrizes estáticas\n",
    "float A [DIM] [DIM];\n",
    "float B [DIM] [DIM];\n",
    "float C [DIM] [DIM];\n",
    "\n",
    "int\n",
    "main(int argc, char *argv[])\n",
    "{\n",
    "  int i,j,k;\n",
    "\n",
    "  /* Atribuição de valores iniciais (0..1) às matrizes */\n",
    "  srand(time(NULL));\n",
    "  for(i=0; i < DIM; i++)\n",
    "    for(j=0; j < DIM; j++) {\n",
    "      A[i][j] = (float)rand() / (float)RAND_MAX;\n",
    "      B[i][j] = (float)rand() / (float)RAND_MAX;\n",
    "    }\n",
    "\n",
    "  /* Multiplicação tradicional */\n",
    "  for(i=0; i < DIM; i++)\n",
    "    #pragma omp parallel for private(j, k) shared(A,B,C)\n",
    "    for(j=0; j < DIM; j++) {\n",
    "      C[i][j] = 0;\n",
    "      for(k=0; k < DIM; k++)\n",
    "        C[i][j] = C[i][j] + A[i][k] * B[k][j]; \n",
    "    }\n",
    "\n",
    "  return(0); \n",
    "}"
   ]
  },
  {
   "cell_type": "markdown",
   "metadata": {},
   "source": [
    "## Paralelismo 3º Loop"
   ]
  },
  {
   "cell_type": "code",
   "execution_count": 50,
   "metadata": {
    "colab": {
     "base_uri": "https://localhost:8080/"
    },
    "id": "5VB2elQq1ho2",
    "outputId": "c48e6854-2f8d-4b1d-bf50-91c74faeaacd"
   },
   "outputs": [
    {
     "name": "stdout",
     "output_type": "stream",
     "text": [
      "Overwriting mult-int.c\n"
     ]
    }
   ],
   "source": [
    "%%writefile mult-int.c\n",
    "// Multiplicação com parallel for no loop mais interno --> uso do reduction\n",
    "\n",
    "/* mult.c  - Para compilar, use: $ gcc mult.c -o mult -fopenmp */\n",
    "\n",
    "#include <stdlib.h>\n",
    "#include <stdio.h>\n",
    "#include <time.h>\n",
    "#include <omp.h>\n",
    "#define DIM 1024       // ajuste a dimensão aqui...\n",
    "\n",
    "// matrizes estáticas\n",
    "float A [DIM] [DIM];\n",
    "float B [DIM] [DIM];\n",
    "float C [DIM] [DIM];\n",
    "\n",
    "int\n",
    "main(int argc, char *argv[])\n",
    "{\n",
    "  int i,j,k;\n",
    "\n",
    "  /* Atribuição de valores iniciais (0..1) às matrizes */\n",
    "  srand(time(NULL));\n",
    "  for(i=0; i < DIM; i++)\n",
    "    for(j=0; j < DIM; j++) {\n",
    "      A[i][j] = (float)rand() / (float)RAND_MAX;\n",
    "      B[i][j] = (float)rand() / (float)RAND_MAX;\n",
    "    }\n",
    "\n",
    "\n",
    "  for(i=0; i < DIM; i++)\n",
    "    for(j=0; j < DIM; j++) {\n",
    "      float sum = 0.0f;      \n",
    "      #pragma omp parallel for\n",
    "      for(k=0; k < DIM; k++)\n",
    "        sum += A[i][k] * B[k][j]; \n",
    "      C[i][j] = sum;\n",
    "    }\n",
    "\n",
    "  return(0); \n",
    "}"
   ]
  },
  {
   "cell_type": "code",
   "execution_count": 52,
   "metadata": {
    "id": "oZmwNBGE2hje"
   },
   "outputs": [
    {
     "name": "stdout",
     "output_type": "stream",
     "text": [
      "Usando 1 threads em mult-ext\n",
      "Usando 2 threads em mult-ext\n",
      "Usando 4 threads em mult-ext\n",
      "Usando 8 threads em mult-ext\n",
      "Usando 16 threads em mult-ext\n",
      "Usando 32 threads em mult-ext\n",
      "Usando 1 threads em mult-mid\n",
      "Usando 2 threads em mult-mid\n",
      "Usando 4 threads em mult-mid\n",
      "Usando 8 threads em mult-mid\n",
      "Usando 16 threads em mult-mid\n",
      "Usando 32 threads em mult-mid\n",
      "Usando 1 threads em mult-int\n",
      "^C\n",
      "Usando 2 threads em mult-int\n",
      "Benchmark finalizado!\n"
     ]
    }
   ],
   "source": [
    "# Que tal um script para experimentar o programa com diferentes números de threads?\n",
    "#OBS-1: %e retorna o tempo real de execução do script desejado\n",
    "#OBS-2: linha 9 --- é necessario recompilar o arquivo fonte para alterar EXPORT\n",
    "\n",
    "!filename=Benchmark.csv; echo \"num_threads;exec_type;real_time\" > $filename;\\\n",
    "for tipo in {ext,mid,int}; do                          \\\n",
    "    for nt in {1,2,4,8,16,32}; do                      \\\n",
    "        export OMP_NUM_THREADS=$nt;                    \\\n",
    "        gcc mult-$tipo.c -o mult-$tipo -O3 -fopenmp;   \\\n",
    "        echo Usando $nt threads em mult-$tipo;         \\\n",
    "        env time --append --format \"$nt;$tipo;%e\"      \\\n",
    "             --output $filename                        \\\n",
    "             ./mult-$tipo;                             \\\n",
    "        done;                                          \\\n",
    "done;                                                  \\\n",
    "gcc mult-serial.c -o mult-serial -O3;                  \\\n",
    "env time --append --format \"$nt;serial;%e\"             \\\n",
    "             --output $filename                        \\\n",
    "             ./mult-serial;                            \n",
    "!echo Benchmark finalizado!"
   ]
  },
  {
   "cell_type": "code",
   "execution_count": 76,
   "metadata": {
    "colab": {
     "base_uri": "https://localhost:8080/",
     "height": 279
    },
    "id": "6QrLXsJ4pQ14",
    "outputId": "6e0c5aea-3864-4b7e-e531-dc9e41f83099"
   },
   "outputs": [
    {
     "name": "stdout",
     "output_type": "stream",
     "text": [
      "[ 1  2  4  8 16 32]\n"
     ]
    },
    {
     "data": {
      "image/png": "[encoded data removed]",
      "text/plain": [
       "<Figure size 640x480 with 2 Axes>"
      ]
     },
     "metadata": {},
     "output_type": "display_data"
    }
   ],
   "source": [
    "import matplotlib.pyplot as plt \n",
    "import pandas as pd\n",
    "\n",
    "\n",
    "df = pd.read_csv('Benchmark.csv', sep=';')\n",
    "\n",
    "df_ext = df[df['exec_type'] == 'ext']\n",
    "df_int = df[df['exec_type'] == 'int']\n",
    "df_mid = df[df['exec_type'] == 'mid']\n",
    "print( df['num_threads'].unique())\n",
    "# Get num_threads and real_time\n",
    "num_threads = df['num_threads'].unique()\n",
    "\n",
    "time_ext = df_ext.real_time.to_list()\n",
    "time_int = df_int.real_time.to_list()\n",
    "time_mid = df_mid.real_time.to_list()\n",
    "\n",
    "#Speed up\n",
    "t_ext = time_ext[0] #1 thread = sequencial\n",
    "t_int = time_int[0] #1 thread = sequencial\n",
    "t_mid = time_mid[0] #1 thread = sequencial\n",
    "\n",
    "speed_up = lambda time, _t: [_t/x for x in time]\n",
    "speed_up_ext = speed_up(time_ext, t_ext)\n",
    "speed_up_int = speed_up(time_int, t_int)\n",
    "speed_up_mid = speed_up(time_mid, t_mid)\n",
    "\n",
    "#Eficiencia = speed_up / real_time\n",
    "eff_ext = [float(spd/nt*100) for spd, nt in zip(speed_up_ext, num_threads)]\n",
    "eff_int = [float(spd/nt*100) for spd, nt in zip(speed_up_int, num_threads)]\n",
    "eff_mid = [float(spd/nt*100) for spd, nt in zip(speed_up_mid, num_threads)]\n",
    "\n",
    "\n",
    "plt.figure()\n",
    "plt.subplot(211)\n",
    "plt.title(\"Comparativo de Speed-up (maior, melhor)\")\n",
    "plt.plot( num_threads, speed_up_ext,'b', label= \"ext. loop\")\n",
    "plt.plot( num_threads, speed_up_int,'r', label= \"int. loop\" )\n",
    "plt.plot( num_threads, speed_up_mid,'g', label= \"mid. loop\")\n",
    "plt.legend(loc=\"upper left\")\n",
    "plt.ylabel(\"Speed-up\") # ideal : spd > 1\n",
    "\n",
    "\n",
    "plt.subplot(212)\n",
    "plt.title(\"Comparativo de Eficiencia (maior, melhor)\")\n",
    "plt.plot( num_threads, eff_ext, 'b', label= \"ext. loop\")\n",
    "plt.plot( num_threads, eff_int, 'r', label= \"int. loop\" )\n",
    "plt.plot( num_threads, eff_mid, 'g', label= \"mid. loop\")\n",
    "plt.legend(loc=\"upper left\")\n",
    "plt.xlabel(\"Num. threads\")\n",
    "plt.ylabel(\"Efficiencia(%)\") # ideal se eff[i-1] > eff[i], que significa que a eficiencia deve aumentar proporcional ao nro. threads\n",
    "\n",
    "plt.tight_layout()\n",
    "plt.savefig('comparative-benchmark.png')\n",
    "plt.show()\n"
   ]
  },
  {
   "cell_type": "markdown",
   "metadata": {
    "id": "SlYPCeo86kPT"
   },
   "source": [
    "### Tabela de Dados de paralelização \n",
    "Segue abaixo um dataframe com os dados de paralelismo obtido no Colab - NUVEM\n",
    "\n",
    "* Multiplicação - Paralelismo no loop Externo"
   ]
  },
  {
   "cell_type": "code",
   "execution_count": null,
   "metadata": {
    "colab": {
     "base_uri": "https://localhost:8080/",
     "height": 237
    },
    "id": "bt_wsNPx6iU9",
    "outputId": "a50d044e-6204-40f6-8381-3fb8b398554e"
   },
   "outputs": [],
   "source": [
    "df_ext"
   ]
  },
  {
   "cell_type": "markdown",
   "metadata": {
    "id": "ia5Bnssk66uN"
   },
   "source": [
    "* Multiplicação - Paralelismo no loop intermediário"
   ]
  },
  {
   "cell_type": "code",
   "execution_count": null,
   "metadata": {
    "colab": {
     "base_uri": "https://localhost:8080/",
     "height": 237
    },
    "id": "j1JsAbJ-67TL",
    "outputId": "304b5948-0c10-44b4-96ac-96362b3672d3"
   },
   "outputs": [],
   "source": [
    "df_mid"
   ]
  },
  {
   "cell_type": "markdown",
   "metadata": {
    "id": "2p9VFni367gj"
   },
   "source": [
    "* Multiplicação - Paralelismo no loop interno."
   ]
  },
  {
   "cell_type": "code",
   "execution_count": null,
   "metadata": {
    "colab": {
     "base_uri": "https://localhost:8080/",
     "height": 237
    },
    "id": "GcU84Y6868EW",
    "outputId": "383c5571-a3c0-4a71-ac84-5aa7ca764e3c"
   },
   "outputs": [],
   "source": [
    "df_int"
   ]
  },
  {
   "cell_type": "markdown",
   "metadata": {
    "id": "SQIQcTWTcKdR"
   },
   "source": [
    "### Execução em Máquina Local: \n",
    "resultado de $ __lscpu | grep CPU__:\n",
    "\n",
    "```sh\n",
    "CPU op-mode(s):                  32-bit, 64-bit\n",
    "CPU(s):                          8\n",
    "On-line CPU(s) list:             0-7\n",
    "CPU family:                      6\n",
    "CPU max MHz:                     4400,0000\n",
    "CPU min MHz:                     400,0000\n",
    "NUMA node0 CPU(s):               0-7\n",
    "```\n"
   ]
  },
  {
   "cell_type": "markdown",
   "metadata": {
    "id": "kYxpvba3cGQX"
   },
   "source": [
    "<img src='benchmark-local.png'>"
   ]
  },
  {
   "cell_type": "code",
   "execution_count": 77,
   "metadata": {},
   "outputs": [],
   "source": [
    "# Clean Worskpace\n",
    "!rm mult-* *.csv"
   ]
  }
 ],
 "metadata": {
  "colab": {
   "provenance": []
  },
  "kernelspec": {
   "display_name": "Python 3 (ipykernel)",
   "language": "python",
   "name": "python3"
  },
  "language_info": {
   "codemirror_mode": {
    "name": "ipython",
    "version": 3
   },
   "file_extension": ".py",
   "mimetype": "text/x-python",
   "name": "python",
   "nbconvert_exporter": "python",
   "pygments_lexer": "ipython3",
   "version": "3.10.12"
  },
  "vscode": {
   "interpreter": {
    "hash": "916dbcbb3f70747c44a77c7bcd40155683ae19c65e1c03b4aa3499c5328201f1"
   }
  }
 },
 "nbformat": 4,
 "nbformat_minor": 1
}
