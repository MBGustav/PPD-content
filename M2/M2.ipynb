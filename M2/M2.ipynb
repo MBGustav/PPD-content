{
 "cells": [
  {
   "cell_type": "markdown",
   "metadata": {},
   "source": [
    "# PROGRAMAÇÃO PARALELA E DISTRIBUIDA\n",
    "\n"
   ]
  },
  {
   "cell_type": "markdown",
   "metadata": {},
   "source": [
    "## USO DE OPENMP em C\n",
    "\n",
    "Assim como vimos anteriormente, é possivel fazer uso de `pthreads`, que se torna complexo o seu uso por conta do controle e replicação de threads, dificultando o seu uso em aplicações de forma generalizada."
   ]
  },
  {
   "cell_type": "markdown",
   "metadata": {},
   "source": [
    "### PRINCIPAIS OPERAÇÕES DE OPENMP\n",
    "\n",
    "|__TIPO__|__DESCRIÇÃO__|\n",
    "|---|--|\n",
    "|_last private_| a copia da thread que fez a ult. iteração, é copiada para a variavel|\n",
    "|_ordered_| execução ordenada de acordo com o numero de thread |\n",
    "|_nowait_ | nao entra em estado de espera quando finalizado um trecho de _for_ |\n",
    "|_reduction_|operação de redução, que pode acontecer vetorialmente |\n",
    " \n"
   ]
  },
  {
   "cell_type": "markdown",
   "metadata": {},
   "source": []
  },
  {
   "cell_type": "markdown",
   "metadata": {},
   "source": [
    "## APROFUNDAMENTO DE OPENMP"
   ]
  },
  {
   "cell_type": "markdown",
   "metadata": {},
   "source": [
    "Agora, falaremos sobre _tasks_. _Task_ é uma diretiva chama de um parallel for. Isso permite que seja criada uma segmentação de execução, em que uma thread pode executar saindo executando o que está na c\n",
    "\n",
    "## TASK\n",
    "\n",
    "Task deve ser usado dentro de uma regiao paralela que tem como funcao uma tarefa especifica, que pode ser executada por uma thread que encontrar essa diretiva. Alem disso, as clausulas que podem ser usadas com essa diretiva sao \n",
    "\n",
    "|a|a|\n",
    "|--|--|\n",
    "|a|a|"
   ]
  },
  {
   "cell_type": "code",
   "execution_count": 5,
   "metadata": {},
   "outputs": [
    {
     "name": "stdout",
     "output_type": "stream",
     "text": [
      "\u001b[0;34m\u001b[0m\n",
      "\u001b[0;34m\u001b[0m\u001b[0;31m#include <stdio.h>\u001b[0m\u001b[0;34m\u001b[0m\n",
      "\u001b[0;34m\u001b[0m\u001b[0;31m#include <time.h>\u001b[0m\u001b[0;34m\u001b[0m\n",
      "\u001b[0;34m\u001b[0m\u001b[0;31m#include <stdlib.h>\u001b[0m\u001b[0;34m\u001b[0m\n",
      "\u001b[0;34m\u001b[0m\u001b[0;34m\u001b[0m\n",
      "\u001b[0;34m\u001b[0m\u001b[0;31m#define NUM 10000000\u001b[0m\u001b[0;34m\u001b[0m\n",
      "\u001b[0;34m\u001b[0m\u001b[0;31m#define MIN_BLK 1024\u001b[0m\u001b[0;34m\u001b[0m\n",
      "\u001b[0;34m\u001b[0m\u001b[0;34m\u001b[0m\n",
      "\u001b[0;34m\u001b[0m\u001b[0mint\u001b[0m \u001b[0m_vet\u001b[0m\u001b[0;34m[\u001b[0m\u001b[0mNUM\u001b[0m\u001b[0;34m]\u001b[0m\u001b[0;34m;\u001b[0m\u001b[0;34m\u001b[0m\n",
      "\u001b[0;34m\u001b[0m\u001b[0;34m\u001b[0m\n",
      "\u001b[0;34m\u001b[0m\u001b[0;34m\u001b[0m\n",
      "\u001b[0;34m\u001b[0m\u001b[0mint\u001b[0m\u001b[0;34m\u001b[0m\n",
      "\u001b[0;34m\u001b[0m\u001b[0mcalc\u001b[0m\u001b[0;34m(\u001b[0m\u001b[0mint\u001b[0m \u001b[0mstart\u001b[0m\u001b[0;34m,\u001b[0m \u001b[0mint\u001b[0m \u001b[0mfinish\u001b[0m\u001b[0;34m)\u001b[0m\u001b[0;34m\u001b[0m\n",
      "\u001b[0;34m\u001b[0m\u001b[0;34m{\u001b[0m\u001b[0;34m\u001b[0m\n",
      "\u001b[0;34m\u001b[0m   \u001b[0mint\u001b[0m \u001b[0mi\u001b[0m\u001b[0;34m,\u001b[0m \u001b[0mdif\u001b[0m\u001b[0;34m;\u001b[0m\u001b[0;34m\u001b[0m\n",
      "\u001b[0;34m\u001b[0m   \u001b[0mint\u001b[0m \u001b[0msum\u001b[0m \u001b[0;34m=\u001b[0m \u001b[0;36m0\u001b[0m\u001b[0;34m,\u001b[0m \u001b[0msum1\u001b[0m\u001b[0;34m,\u001b[0m \u001b[0msum2\u001b[0m\u001b[0;34m;\u001b[0m\u001b[0;34m\u001b[0m\n",
      "\u001b[0;34m\u001b[0m\u001b[0;34m\u001b[0m\n",
      "\u001b[0;34m\u001b[0m   \u001b[0;32mif\u001b[0m \u001b[0;34m(\u001b[0m\u001b[0mfinish\u001b[0m\u001b[0;34m-\u001b[0m\u001b[0mstart\u001b[0m \u001b[0;34m<=\u001b[0m \u001b[0mMIN_BLK\u001b[0m\u001b[0;34m)\u001b[0m \u001b[0;34m{\u001b[0m    \u001b[0;34m//\u001b[0m \u001b[0mcalcula\u001b[0m\u001b[0;34m\u001b[0m\n",
      "\u001b[0;34m\u001b[0m      \u001b[0;34m//\u001b[0m \u001b[0mprintf\u001b[0m\u001b[0;34m(\u001b[0m\u001b[0;34m\"Calculando %d -> %d\\n\"\u001b[0m\u001b[0;34m,\u001b[0m \u001b[0mstart\u001b[0m\u001b[0;34m,\u001b[0m \u001b[0mfinish\u001b[0m\u001b[0;34m)\u001b[0m\u001b[0;34m;\u001b[0m\u001b[0;34m\u001b[0m\n",
      "\u001b[0;34m\u001b[0m\u001b[0;34m\u001b[0m\n",
      "\u001b[0;34m\u001b[0m      \u001b[0;32mfor\u001b[0m \u001b[0;34m(\u001b[0m\u001b[0mi\u001b[0m\u001b[0;34m=\u001b[0m\u001b[0mstart\u001b[0m\u001b[0;34m;\u001b[0m \u001b[0mi\u001b[0m \u001b[0;34m<\u001b[0m \u001b[0mfinish\u001b[0m\u001b[0;34m;\u001b[0m \u001b[0mi\u001b[0m\u001b[0;34m+\u001b[0m\u001b[0;34m+\u001b[0m\u001b[0;34m)\u001b[0m\u001b[0;34m\u001b[0m\n",
      "\u001b[0;34m\u001b[0m        \u001b[0msum\u001b[0m\u001b[0;34m+=\u001b[0m\u001b[0m_vet\u001b[0m\u001b[0;34m[\u001b[0m\u001b[0mi\u001b[0m\u001b[0;34m]\u001b[0m\u001b[0;34m;\u001b[0m\u001b[0;34m\u001b[0m\n",
      "\u001b[0;34m\u001b[0m\u001b[0;34m\u001b[0m\n",
      "\u001b[0;34m\u001b[0m   \u001b[0;34m}\u001b[0m \u001b[0;32melse\u001b[0m \u001b[0;34m{\u001b[0m                           \u001b[0;34m//\u001b[0m \u001b[0mdivide\u001b[0m\u001b[0;34m,\u001b[0m \u001b[0mcriando\u001b[0m \u001b[0mnovas\u001b[0m \u001b[0mtasks\u001b[0m\u001b[0;34m\u001b[0m\n",
      "\u001b[0;34m\u001b[0m\u001b[0;34m\u001b[0m\n",
      "\u001b[0;34m\u001b[0m      \u001b[0;34m//\u001b[0m \u001b[0mprintf\u001b[0m\u001b[0;34m(\u001b[0m\u001b[0;34m\"Dividindo %d -> %d\\n\"\u001b[0m\u001b[0;34m,\u001b[0m \u001b[0mstart\u001b[0m\u001b[0;34m,\u001b[0m \u001b[0mfinish\u001b[0m\u001b[0;34m)\u001b[0m\u001b[0;34m;\u001b[0m\u001b[0;34m\u001b[0m\n",
      "\u001b[0;34m\u001b[0m\u001b[0;34m\u001b[0m\n",
      "\u001b[0;34m\u001b[0m      \u001b[0mdif\u001b[0m \u001b[0;34m=\u001b[0m \u001b[0mfinish\u001b[0m \u001b[0;34m-\u001b[0m \u001b[0mstart\u001b[0m\u001b[0;34m;\u001b[0m\u001b[0;34m\u001b[0m\n",
      "\u001b[0;34m\u001b[0m\u001b[0;34m\u001b[0m\n",
      "\u001b[0;34m\u001b[0m      \u001b[0;34m//\u001b[0m \u001b[0mvariável\u001b[0m \u001b[0mde\u001b[0m \u001b[0mretorno\u001b[0m \u001b[0mdeve\u001b[0m \u001b[0mser\u001b[0m \u001b[0mcompartilhada\u001b[0m \u001b[0mpara\u001b[0m \u001b[0mque\u001b[0m \u001b[0mo\u001b[0m \u001b[0mvalor\u001b[0m \u001b[0mretornado\u001b[0m\u001b[0;34m\u001b[0m\n",
      "\u001b[0;34m\u001b[0m      \u001b[0;34m//\u001b[0m \u001b[0mnão\u001b[0m \u001b[0mseja\u001b[0m \u001b[0msalvo\u001b[0m \u001b[0mem\u001b[0m \u001b[0muma\u001b[0m \u001b[0mnova\u001b[0m \u001b[0mvariável\u001b[0m \u001b[0mda\u001b[0m \u001b[0mnova\u001b[0m \u001b[0mtask\u001b[0m\u001b[0;34m\u001b[0m\n",
      "\u001b[0;34m\u001b[0m\u001b[0;34m\u001b[0m\n",
      "\u001b[0;34m\u001b[0m      \u001b[0;31m#pragma omp task shared(sum1)\u001b[0m\u001b[0;34m\u001b[0m\n",
      "\u001b[0;34m\u001b[0m      \u001b[0msum1\u001b[0m \u001b[0;34m=\u001b[0m \u001b[0mcalc\u001b[0m\u001b[0;34m(\u001b[0m\u001b[0mstart\u001b[0m\u001b[0;34m,\u001b[0m \u001b[0mstart\u001b[0m \u001b[0;34m+\u001b[0m \u001b[0mdif\u001b[0m \u001b[0;34m/\u001b[0m \u001b[0;36m2\u001b[0m\u001b[0;34m)\u001b[0m\u001b[0;34m;\u001b[0m\u001b[0;34m\u001b[0m\n",
      "\u001b[0;34m\u001b[0m\u001b[0;34m\u001b[0m\n",
      "\u001b[0;34m\u001b[0m      \u001b[0;31m#pragma omp task shared(sum2)\u001b[0m\u001b[0;34m\u001b[0m\n",
      "\u001b[0;34m\u001b[0m      \u001b[0msum2\u001b[0m \u001b[0;34m=\u001b[0m \u001b[0mcalc\u001b[0m\u001b[0;34m(\u001b[0m\u001b[0mfinish\u001b[0m \u001b[0;34m-\u001b[0m \u001b[0mdif\u001b[0m \u001b[0;34m/\u001b[0m \u001b[0;36m2\u001b[0m\u001b[0;34m,\u001b[0m \u001b[0mfinish\u001b[0m\u001b[0;34m)\u001b[0m\u001b[0;34m;\u001b[0m\u001b[0;34m\u001b[0m\n",
      "\u001b[0;34m\u001b[0m\u001b[0;34m\u001b[0m\n",
      "\u001b[0;34m\u001b[0m      \u001b[0;34m//\u001b[0m \u001b[0mTaskwait\u001b[0m \u001b[0mfunciona\u001b[0m \u001b[0mcomo\u001b[0m \u001b[0muma\u001b[0m \u001b[0mbarreira\u001b[0m \u001b[0mpara\u001b[0m \u001b[0mtasks\u001b[0m\u001b[0;34m,\u001b[0m \u001b[0mfazendo\u001b[0m \u001b[0mcom\u001b[0m \u001b[0mque\u001b[0m \u001b[0mo\u001b[0m \u001b[0mfluxo\u001b[0m \u001b[0mde\u001b[0m \u001b[0mexecução\u001b[0m\u001b[0;34m\u001b[0m\n",
      "\u001b[0;34m\u001b[0m      \u001b[0;34m//\u001b[0m \u001b[0mseja\u001b[0m \u001b[0mpausado\u001b[0m \u001b[0maté\u001b[0m \u001b[0mque\u001b[0m \u001b[0;32mas\u001b[0m \u001b[0mtasks\u001b[0m \u001b[0mtenham\u001b[0m \u001b[0msido\u001b[0m \u001b[0mcompletadas\u001b[0m\u001b[0;34m.\u001b[0m \u001b[0mTaskwait\u001b[0m \u001b[0mfaz\u001b[0m \u001b[0mcom\u001b[0m\u001b[0;34m\u001b[0m\n",
      "\u001b[0;34m\u001b[0m      \u001b[0;34m//\u001b[0m \u001b[0mque\u001b[0m \u001b[0mthreads\u001b[0m \u001b[0msuspendam\u001b[0m \u001b[0mo\u001b[0m \u001b[0mque\u001b[0m \u001b[0mestavam\u001b[0m \u001b[0mfazendo\u001b[0m \u001b[0me\u001b[0m \u001b[0mpassam\u001b[0m \u001b[0ma\u001b[0m \u001b[0matuar\u001b[0m \u001b[0mnas\u001b[0m \u001b[0mtasks\u001b[0m \u001b[0mda\u001b[0m \u001b[0mfila\u001b[0m\u001b[0;34m.\u001b[0m\u001b[0;34m\u001b[0m\n",
      "\u001b[0;34m\u001b[0m      \u001b[0;34m//\u001b[0m \u001b[0mThe\u001b[0m \u001b[0mtaskwait\u001b[0m \u001b[0mconstruct\u001b[0m \u001b[0mspecifies\u001b[0m \u001b[0ma\u001b[0m \u001b[0mwait\u001b[0m \u001b[0mon\u001b[0m \u001b[0mthe\u001b[0m \u001b[0mcompletion\u001b[0m \u001b[0mof\u001b[0m \u001b[0mchild\u001b[0m \u001b[0mtasks\u001b[0m \u001b[0mof\u001b[0m \u001b[0mthe\u001b[0m \u001b[0mcurrent\u001b[0m \u001b[0mtask\u001b[0m\u001b[0;34m.\u001b[0m\u001b[0;34m\u001b[0m\n",
      "\u001b[0;34m\u001b[0m      \u001b[0;31m#pragma omp taskwait\u001b[0m\u001b[0;34m\u001b[0m\n",
      "\u001b[0;34m\u001b[0m      \u001b[0;34m//\u001b[0m \u001b[0mOnce\u001b[0m \u001b[0mall\u001b[0m \u001b[0mtasks\u001b[0m \u001b[0mhave\u001b[0m \u001b[0mbeen\u001b[0m \u001b[0mprocessed\u001b[0m\u001b[0;34m,\u001b[0m \u001b[0mthreads\u001b[0m \u001b[0mresume\u001b[0m \u001b[0mtheir\u001b[0m \u001b[0mnormal\u001b[0m \u001b[0mexecution\u001b[0m \u001b[0mflow\u001b[0m\u001b[0;34m.\u001b[0m\u001b[0;34m\u001b[0m\n",
      "\u001b[0;34m\u001b[0m\u001b[0;34m\u001b[0m\n",
      "\u001b[0;34m\u001b[0m      \u001b[0msum\u001b[0m \u001b[0;34m=\u001b[0m \u001b[0msum1\u001b[0m \u001b[0;34m+\u001b[0m \u001b[0msum2\u001b[0m\u001b[0;34m;\u001b[0m\u001b[0;34m\u001b[0m\n",
      "\u001b[0;34m\u001b[0m  \u001b[0;34m}\u001b[0m\u001b[0;34m\u001b[0m\n",
      "\u001b[0;34m\u001b[0m  \u001b[0;32mreturn\u001b[0m \u001b[0msum\u001b[0m\u001b[0;34m;\u001b[0m\u001b[0;34m\u001b[0m\n",
      "\u001b[0;34m\u001b[0m\u001b[0;34m}\u001b[0m\u001b[0;34m\u001b[0m\n",
      "\u001b[0;34m\u001b[0m\u001b[0;34m\u001b[0m\n",
      "\u001b[0;34m\u001b[0m\u001b[0mint\u001b[0m \u001b[0mmain\u001b[0m\u001b[0;34m(\u001b[0m\u001b[0;34m)\u001b[0m\u001b[0;34m\u001b[0m\n",
      "\u001b[0;34m\u001b[0m\u001b[0;34m{\u001b[0m\u001b[0;34m\u001b[0m\n",
      "\u001b[0;34m\u001b[0m  \u001b[0mint\u001b[0m \u001b[0mi\u001b[0m\u001b[0;34m,\u001b[0m \u001b[0msum\u001b[0m\u001b[0;34m;\u001b[0m\u001b[0;34m\u001b[0m\n",
      "\u001b[0;34m\u001b[0m\u001b[0;34m\u001b[0m\n",
      "\u001b[0;34m\u001b[0m  \u001b[0;34m//\u001b[0m \u001b[0minicia\u001b[0m \u001b[0mvetor\u001b[0m \u001b[0mcom\u001b[0m \u001b[0mvalores\u001b[0m \u001b[0maleatorios\u001b[0m \u001b[0;36m0.\u001b[0m\u001b[0;36m.9\u001b[0m\u001b[0;34m\u001b[0m\n",
      "\u001b[0;34m\u001b[0m  \u001b[0msrand\u001b[0m\u001b[0;34m(\u001b[0m\u001b[0mtime\u001b[0m\u001b[0;34m(\u001b[0m\u001b[0mNULL\u001b[0m\u001b[0;34m)\u001b[0m\u001b[0;34m)\u001b[0m\u001b[0;34m;\u001b[0m\u001b[0;34m\u001b[0m\n",
      "\u001b[0;34m\u001b[0m  \u001b[0;32mfor\u001b[0m \u001b[0;34m(\u001b[0m\u001b[0mi\u001b[0m\u001b[0;34m=\u001b[0m\u001b[0;36m0\u001b[0m\u001b[0;34m;\u001b[0m \u001b[0mi\u001b[0m\u001b[0;34m<\u001b[0m \u001b[0mNUM\u001b[0m\u001b[0;34m;\u001b[0m \u001b[0mi\u001b[0m\u001b[0;34m+\u001b[0m\u001b[0;34m+\u001b[0m\u001b[0;34m)\u001b[0m\u001b[0;34m\u001b[0m\n",
      "\u001b[0;34m\u001b[0m    \u001b[0m_vet\u001b[0m\u001b[0;34m[\u001b[0m\u001b[0mi\u001b[0m\u001b[0;34m]\u001b[0m\u001b[0;34m=\u001b[0m\u001b[0mrand\u001b[0m\u001b[0;34m(\u001b[0m\u001b[0;34m)\u001b[0m\u001b[0;34m%\u001b[0m\u001b[0;36m10\u001b[0m\u001b[0;34m;\u001b[0m\u001b[0;34m\u001b[0m\n",
      "\u001b[0;34m\u001b[0m\u001b[0;34m\u001b[0m\n",
      "\u001b[0;34m\u001b[0m  \u001b[0;31m#pragma omp parallel     // cria um time de threads\u001b[0m\u001b[0;34m\u001b[0m\n",
      "\u001b[0;34m\u001b[0m  \u001b[0;34m{\u001b[0m\u001b[0;34m\u001b[0m\n",
      "\u001b[0;34m\u001b[0m    \u001b[0;34m//\u001b[0m \u001b[0mQuestão\u001b[0m\u001b[0;34m:\u001b[0m \u001b[0mqueremos\u001b[0m \u001b[0mter\u001b[0m \u001b[0mum\u001b[0m \u001b[0mtime\u001b[0m \u001b[0mde\u001b[0m \u001b[0mthreads\u001b[0m\u001b[0;34m,\u001b[0m \u001b[0mque\u001b[0m \u001b[0mirá\u001b[0m \u001b[0mexecutar\u001b[0m \u001b[0;32mas\u001b[0m \u001b[0mtarefas\u001b[0m\u001b[0;34m\u001b[0m\n",
      "\u001b[0;34m\u001b[0m    \u001b[0;34m//\u001b[0m \u001b[0mque\u001b[0m \u001b[0mcriarmos\u001b[0m \u001b[0mnas\u001b[0m \u001b[0mchamadas\u001b[0m \u001b[0mrecursivas\u001b[0m\u001b[0;34m.\u001b[0m \u001b[0mContudo\u001b[0m\u001b[0;34m,\u001b[0m \u001b[0mé\u001b[0m \u001b[0mpreciso\u001b[0m \u001b[0mfazer\u001b[0m \u001b[0mapenas\u001b[0m \u001b[0;36m1\u001b[0m\u001b[0;34m\u001b[0m\n",
      "\u001b[0;34m\u001b[0m    \u001b[0;34m//\u001b[0m \u001b[0mchamada\u001b[0m \u001b[0mà\u001b[0m \u001b[0mfunção\u001b[0m \u001b[0mde\u001b[0m \u001b[0mcálculo\u001b[0m\u001b[0;34m.\u001b[0m \u001b[0mIsso\u001b[0m \u001b[0mé\u001b[0m \u001b[0mfeito\u001b[0m \u001b[0mcom\u001b[0m \u001b[0ma\u001b[0m \u001b[0mdiretiva\u001b[0m \u001b[0msingle\u001b[0m\u001b[0;34m(\u001b[0m\u001b[0;34m)\u001b[0m\u001b[0;34m\u001b[0m\n",
      "\u001b[0;34m\u001b[0m\u001b[0;34m\u001b[0m\n",
      "\u001b[0;34m\u001b[0m    \u001b[0;31m#pragma omp single\u001b[0m\u001b[0;34m\u001b[0m\n",
      "\u001b[0;34m\u001b[0m      \u001b[0msum\u001b[0m \u001b[0;34m=\u001b[0m \u001b[0mcalc\u001b[0m \u001b[0;34m(\u001b[0m\u001b[0;36m0\u001b[0m\u001b[0;34m,\u001b[0m \u001b[0mNUM\u001b[0m\u001b[0;34m)\u001b[0m\u001b[0;34m;\u001b[0m\u001b[0;34m\u001b[0m\n",
      "\u001b[0;34m\u001b[0m  \u001b[0;34m}\u001b[0m\u001b[0;34m\u001b[0m\n",
      "\u001b[0;34m\u001b[0m\u001b[0;34m\u001b[0m\n",
      "\u001b[0;34m\u001b[0m  \u001b[0mprintf\u001b[0m\u001b[0;34m(\u001b[0m\u001b[0;34m\"Soma: %d\\n\"\u001b[0m\u001b[0;34m,\u001b[0m \u001b[0msum\u001b[0m\u001b[0;34m)\u001b[0m\u001b[0;34m;\u001b[0m\u001b[0;34m\u001b[0m\n",
      "\u001b[0;34m\u001b[0m\u001b[0;34m\u001b[0m\n",
      "\u001b[0;34m\u001b[0m  \u001b[0;32mreturn\u001b[0m \u001b[0;36m0\u001b[0m\u001b[0;34m;\u001b[0m\u001b[0;34m\u001b[0m\n",
      "\u001b[0;34m\u001b[0m\u001b[0;34m}\u001b[0m\u001b[0;34m\u001b[0m\u001b[0;34m\u001b[0m\u001b[0m\n"
     ]
    }
   ],
   "source": [
    "pycat ./code/t1.c"
   ]
  },
  {
   "cell_type": "code",
   "execution_count": 6,
   "metadata": {},
   "outputs": [
    {
     "name": "stdout",
     "output_type": "stream",
     "text": [
      "Soma: 44972551\n",
      "\n",
      "real\t0m0,474s\n",
      "user\t0m0,689s\n",
      "sys\t0m0,061s\n"
     ]
    }
   ],
   "source": [
    "! gcc -Wall ./code/t1.c -o ./code/t1 -fopenmp && time ./code/t1"
   ]
  },
  {
   "cell_type": "markdown",
   "metadata": {},
   "source": [
    "## Diretivas de Vetorização\n",
    "Para um codigo com bom desempenho, é necessario identificar eventuais possibilidades de vetorização de código, que implicam em um bom desempenho. Para isso, é possivel fazer uso de diretivas que permitem a saida verbosa de loops vetorizados e possiveis oportunidades de paralelização. Para isso, _flags_ que indicam essas possiblidades são essenciais: \n",
    "- \n",
    "- \n",
    "- \n",
    "- \n",
    "- \n",
    "- \n",
    "- \n",
    "- "
   ]
  },
  {
   "cell_type": "markdown",
   "metadata": {},
   "source": []
  }
 ],
 "metadata": {
  "kernelspec": {
   "display_name": "Python 3",
   "language": "python",
   "name": "python3"
  },
  "language_info": {
   "codemirror_mode": {
    "name": "ipython",
    "version": 3
   },
   "file_extension": ".py",
   "mimetype": "text/x-python",
   "name": "python",
   "nbconvert_exporter": "python",
   "pygments_lexer": "ipython3",
   "version": "3.10.12"
  }
 },
 "nbformat": 4,
 "nbformat_minor": 2
}
