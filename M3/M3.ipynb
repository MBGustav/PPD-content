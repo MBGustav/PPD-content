{
 "cells": [
  {
   "cell_type": "markdown",
   "metadata": {},
   "source": [
    "# PROGRAMAÇÃO PARALELA EM MULTIPLOS _NODES_\n",
    "\n",
    "Visto anteriormente nos módulos M1 e M2, observamos a granularidade a nivel de thread, que podemos nos beneficiar de características como cache e outras questões localmente. \n",
    "Dada a demanda e a necessidade de alto processamento computacional, surgem ferramentas que lidem com multiplos nós. Em resumo:\n",
    "- Sistemas Computacionais Distintos \n",
    "- Interligação via Rede \n",
    "- SO's distintos\n",
    "- Memória distribuida\n",
    "- Comunicação (dado e sincronização) via passagem de mensagem\n"
   ]
  },
  {
   "cell_type": "markdown",
   "metadata": {},
   "source": [
    "## INTRODUÇÃO\n",
    "Podemos dividir/particionar nós para executar de maneira independente de acordo com a necessidade. \n",
    "Similar ao openMP, mas expandindo com o conceito de comunicação entre as máquinas. a biblioteca de MPI possibilita a abstração da comunicação entre os nós.\n",
    "\n",
    "### ORGANIZAÇÃO/ETAPAS ANALISADAS \n",
    "1. Paralelismo Entre-nós;\n",
    "2. Comunicação;\n",
    "3. Paralelismo Intra-nós;"
   ]
  },
  {
   "cell_type": "markdown",
   "metadata": {},
   "source": [
    "## BASE DE SSH\n",
    "`ssh-keygen`: geração de um arquivo de chave de uso\n",
    "`ssh-copy-id -p 2021 email@email.br`: copio a chave de ssh para o \n",
    "\n",
    "<!-- ## PROTOCOLO DE AUTENTICAÇÃO VIA SERVIDOR\n",
    "`` -->\n",
    "### SOCKETS\n",
    "Sao formas de comunicação que permitem conectar computadores na rede, das quais podemos ter as seguintes conexões: TCP ou UDP. Vale lembrar das principais caracteristicas dentre as redes: \n",
    "|_Tipo_|_Descrição_|\n",
    "|-|-|\n",
    "|TCP|Protocolo de Transmissão que realiza a troca prévia de conexão que evita a perda de pacotes de dados|\n",
    "|UDP|Protocolo que tem maior velocida, mas pode haver a perda de dados, necessario avaliar caso a caso.|\n",
    "\n",
    "Dentro da Biblioteca, tudo isso é abstraido a nivel de sistema a fim de facilitar o desenvolvimento de código e projetos. <br>\n",
    "Partes do programa dedica buffers e até mesmo threads com maior prioridadde para controlar de recebimento/envio de dados bem como compartilhamento de dados entre nós.\n",
    "\n",
    "\n",
    "# SOBRE MPI\n",
    "O MPI tem por objetivo facilitar para o programador o desenvolvimento de transmissão para diferentes nós. Veremos com maiores detalhes funções com maiores detalhes.\n",
    "\n",
    "## 1. Tipos de comunicação \n",
    "- Bloqueante e não-bloqueante: O MPI usa um _buffer_ de comunicação para transmissão entre nós. Quando o envio é feito(por meio de Send()), caso seja bloqueante, o node emissor aguarda pelo resultado de envio, diferente do tipo não-bloqueante.\n"
   ]
  },
  {
   "cell_type": "markdown",
   "metadata": {},
   "source": [
    "## COMANDOS DO MPI\n",
    "__Compilação:__ `mpicc prog.c -o prog`\n",
    "\n",
    "__Execução:__ `mpirun -n 3 `\n",
    "\n",
    "__Especificando Hosts:__ \n",
    "- Por Arquivo de Hosts (abaixo)\n",
    "- Via CLI: `mpirun -n 3 -hosts <h1> <h2> ...` (deve ser resolvido via domain name)\n",
    "\n"
   ]
  },
  {
   "cell_type": "code",
   "execution_count": 4,
   "metadata": {},
   "outputs": [
    {
     "name": "stdout",
     "output_type": "stream",
     "text": [
      "\u001b[0mlocalhost\u001b[0m \u001b[0mslots\u001b[0m\u001b[0;34m=\u001b[0m\u001b[0;36m4\u001b[0m\u001b[0;34m\u001b[0m\n",
      "\u001b[0;34m\u001b[0m\u001b[0;34m\u001b[0m\n",
      "\u001b[0;34m\u001b[0m\u001b[0;31m# O arquivo de hosts é um arquivo texto, contendo, em cada linha, a especificação\u001b[0m\u001b[0;34m\u001b[0m\n",
      "\u001b[0;34m\u001b[0m\u001b[0;31m# de um computador onde é possível iniciar a execução das aplicações.\u001b[0m\u001b[0;34m\u001b[0m\n",
      "\u001b[0;34m\u001b[0m\u001b[0;31m#\u001b[0m\u001b[0;34m\u001b[0m\n",
      "\u001b[0;34m\u001b[0m\u001b[0;31m# no1.domain.com\u001b[0m\u001b[0;34m\u001b[0m\n",
      "\u001b[0;34m\u001b[0m\u001b[0;31m# no2.domain.com\u001b[0m\u001b[0;34m\u001b[0m\n",
      "\u001b[0;34m\u001b[0m\u001b[0;34m\u001b[0m\n",
      "\u001b[0;34m\u001b[0m\u001b[0;31m# A ordem dos hosts listados pode não ser seguida na ativação do programa.\u001b[0m\u001b[0;34m\u001b[0m\n",
      "\u001b[0;34m\u001b[0m\u001b[0;31m# Para cada host, é possível especificar também o número de \"slots\", que representa\u001b[0m\u001b[0;34m\u001b[0m\n",
      "\u001b[0;34m\u001b[0m\u001b[0;31m# o número de instâncias (processos) que podem ser ativadas neste nó.\u001b[0m\u001b[0;34m\u001b[0m\n",
      "\u001b[0;34m\u001b[0m\u001b[0;31m# Normalmente, esse número é relacionado ao número de processadores disponíveis no nó.\u001b[0m\u001b[0;34m\u001b[0m\n",
      "\u001b[0;34m\u001b[0m\u001b[0;31m#\u001b[0m\u001b[0;34m\u001b[0m\n",
      "\u001b[0;34m\u001b[0m\u001b[0;31m# no1 slots=2\u001b[0m\u001b[0;34m\u001b[0m\n",
      "\u001b[0;34m\u001b[0m\u001b[0;31m# no2 slots=2\u001b[0m\u001b[0;34m\u001b[0m\n",
      "\u001b[0;34m\u001b[0m\u001b[0;31m# no3 slots=4\u001b[0m\u001b[0;34m\u001b[0m\n",
      "\u001b[0;34m\u001b[0m\u001b[0;34m\u001b[0m\n",
      "\u001b[0;34m\u001b[0m\u001b[0;31m# O número máximo de slots também pode ser especificado e indica o número\u001b[0m\u001b[0;34m\u001b[0m\n",
      "\u001b[0;34m\u001b[0m\u001b[0;31m# máximo de processos que podem ser atribuídos ao nó.\u001b[0m\u001b[0;34m\u001b[0m\n",
      "\u001b[0;34m\u001b[0m\u001b[0;31m#\u001b[0m\u001b[0;34m\u001b[0m\n",
      "\u001b[0;34m\u001b[0m\u001b[0;31m# no1 slots=4 max-slots=4\u001b[0m\u001b[0;34m\u001b[0m\n",
      "\u001b[0;34m\u001b[0m\u001b[0;34m\u001b[0m\n",
      "\u001b[0;34m\u001b[0m\u001b[0;31m# Uma vez definidos os computadores disponíveis no arquivo de hosts, a indicação\u001b[0m\u001b[0;34m\u001b[0m\n",
      "\u001b[0;34m\u001b[0m\u001b[0;31m# de quais computadores usar pode ser feita especificando o nome do arquivo na\u001b[0m\u001b[0;34m\u001b[0m\n",
      "\u001b[0;34m\u001b[0m\u001b[0;31m# ativação do programa\u001b[0m\u001b[0;34m\u001b[0m\n",
      "\u001b[0;34m\u001b[0m\u001b[0;31m#\u001b[0m\u001b[0;34m\u001b[0m\n",
      "\u001b[0;34m\u001b[0m\u001b[0;31m# $ mpirun -np 4 --hostfile hosts prog\u001b[0m\u001b[0;34m\u001b[0m\n",
      "\u001b[0;34m\u001b[0m\u001b[0;31m# ou\u001b[0m\u001b[0;34m\u001b[0m\n",
      "\u001b[0;34m\u001b[0m\u001b[0;31m# $ mpiru -np 4 --machinefile hosts prog\u001b[0m\u001b[0;34m\u001b[0m\u001b[0;34m\u001b[0m\u001b[0m\n"
     ]
    }
   ],
   "source": [
    "%pycat code/host_file"
   ]
  },
  {
   "cell_type": "markdown",
   "metadata": {},
   "source": [
    "## COMO ORGANIZAR O PROCESSAMENTO  DE DADOS\n",
    "1. __Master-Slave__:\n",
    "    Este tipo de processamento tem um nó centralizado de processamento que distribui os dados de um nó central para outros nós. <br>\n",
    "    Basicamente, um mestre distribui as memórias necessarias entre servos, podendo ter workers com diferentes operações. \n",
    "    \n",
    "2. __Pipeline__:\n",
    "    Sistema de throughput que processa e transmite para o nó seguinte. Quando alcançado o total de elementos de nós, todos os pontos se encontram em funcionamento.<br>\n",
    "\n",
    "    "
   ]
  },
  {
   "cell_type": "markdown",
   "metadata": {},
   "source": [
    "## CHAMADOS DE COMUNICAÇÃO\n",
    "Para transmissões de ponto a ponto, devemos especificar o MPI_COMM_WORLD , formado por todos os processos dessa aplicação. Os identificadores lógicos(ranks) permitem saber quem serão os emissores e/ou receptores.\n",
    "- `int MPI_Send (void *buf, int count, MPI_Datatype dtype, int dest, int tag, MPI_Comm comm)`\n",
    "- `int MPI_Recv (void *buf, int count, MPI_Datatype dtype, int src, int tag, MPI_Comm comm, MPI_Status *stat)`\n",
    "\n",
    "__OBS 01:__ Quando temos um buffer de recebimento maior que o recebido, seu buffer é truncado. \n",
    "__OBS 02:__ Temos tags e src's que permitem a recepção de qualquer nó que, quando pronto, que quando recebido \n",
    "\n"
   ]
  },
  {
   "cell_type": "markdown",
   "metadata": {},
   "source": [
    "<!-- # COMO USAR THREADS EM MPI?  -->\n"
   ]
  },
  {
   "cell_type": "markdown",
   "metadata": {},
   "source": []
  },
  {
   "cell_type": "markdown",
   "metadata": {},
   "source": []
  },
  {
   "cell_type": "markdown",
   "metadata": {},
   "source": [
    "## REFERENCIAS BIBLIOGRAFICAS\n",
    "\n",
    "<!-- TODO: leitura sobre spool -->"
   ]
  }
 ],
 "metadata": {
  "kernelspec": {
   "display_name": "Python 3",
   "language": "python",
   "name": "python3"
  },
  "language_info": {
   "codemirror_mode": {
    "name": "ipython",
    "version": 3
   },
   "file_extension": ".py",
   "mimetype": "text/x-python",
   "name": "python",
   "nbconvert_exporter": "python",
   "pygments_lexer": "ipython3",
   "version": "3.10.12"
  }
 },
 "nbformat": 4,
 "nbformat_minor": 2
}
