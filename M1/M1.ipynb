{
 "cells": [
  {
   "cell_type": "markdown",
   "metadata": {},
   "source": [
    "# INTRO - PROGRAMACAO PARALELA E DISTRIBUIDA\n",
    "__Professor:__ Helio Crestana"
   ]
  },
  {
   "cell_type": "markdown",
   "metadata": {},
   "source": [
    "## Oque é PPD - Programação Paralela e Distribuida"
   ]
  },
  {
   "cell_type": "markdown",
   "metadata": {},
   "source": [
    "O objetivo principal de PPD  é o melhor manejo de processamento de modo eficiente, sendo que diferentes arquiteturas e plataformas podem ser utilizadas para isso.\n",
    "\n",
    "Com as limitações da Lei de Moore, a adesão da programaçao paralela vem sido adotada de maneira frequente, e apesar dos aspectos de reconhecimento por meio dos compiladores para detecção e automação de paralelismo, os compiladores não conseguem extrair todo o potencial previsto para certas aplicações.\n",
    "\n",
    "\n",
    ">  __Programação Paralela:__\n",
    "> Execução de processos de forma concorrente. Em outras palavras, é a divisão de conjuntos de tarefas de modo que este conjuntos sejam realizadas essas instruções sequenciais.\n",
    ">\n",
    "\n",
    "\n",
    ">  __Programação Distribuida:__ \n",
    "> Oposto de centralizar. A programação distribuida tem como propósito a escalabilidade associada com a sincronização e comunicação entre nós.\n",
    "> (DSM)\n",
    "\n"
   ]
  },
  {
   "cell_type": "markdown",
   "metadata": {},
   "source": [
    "## PORQUE FAZER PARALELISMO ?\n",
    "\n",
    "### LEI DE AMDAHL\n",
    "$$ S_p = {1 \\over {(1-f) + {f \\over p}}} $$\n",
    "\n",
    "<img src=\"img/Amdahls.png\" >\n",
    "\n",
    "\n",
    "A lei de Amdahl permite visualizar o potencial de uso para paralelismo, de modo que podemos observar o potencial de melhora de um algoritmo.\n",
    "Isso implica certos questionamentos e primeiros passos do paralelismo deseajado, além de comprovar que o aumento de processador não necessariamente implica um rendimento diretamente proporcional.\n"
   ]
  },
  {
   "cell_type": "markdown",
   "metadata": {},
   "source": [
    "## TEMAS ADICIONAIS\n",
    "\n",
    "- _Out-of-Core_: Problemas que ultrapassam o limite de memória do Sistema Local. A solução geralmente utilizada é a sobreposição de memória RAM assim que realizado.\n",
    "\n",
    "- _TCPP_: Technical Community on Parallel Processing\n",
    "\n",
    "- _Cache LineSize_: Geralmente tem tamanho de 64 bytes. Isso significa que, tendo um acesso de _float_ (4bytes) haverá a transferencia de 16 valores do tipo float na memória.\n",
    "\n",
    " - _False Sharing_: Falsa manipulação de cache. A coerencia de cache pode ser invalidada por conta de alteração de valores da vizinhança que pode invalidar os valores vizinhos. Isso significa que uma linha de cache pode ser invalidada por conta disso.\n",
    "\n",
    "\n",
    "<!-- ## ARQUITETURAS DEDICADAS\n",
    " - NUMA:\n",
    " - pread  -->\n",
    "\n",
    "\n"
   ]
  },
  {
   "cell_type": "markdown",
   "metadata": {},
   "source": [
    "## Referencias Bibliográficas\n",
    "- Grama,A.;Gupta,A.;Karypis,G.;Kumar,V. Introduction to Parallel Computing. Adisson-Wesley, 2003. \n",
    "- Dongarra, J.; Foster, I.; Fox, G.; Gropp, W.; White, A.; Torczon, L.; Kennedy, K. Sourcebook of Parallel Computing. Morgan Kaufmann Pub, 2003.\n",
    "- Foster, I. Designing and Building Parallel Programs. Addison-Wesley, 1995. www-unix.mcs.anl.gov/dbpp. <!-- TODO:  fazer leitua do Material Designing and Building Parallel Programs. Addison-Wesley, 1995.  -> tem metodologias de paralelização -->\n",
    "- Casanova, H.; Legrand, A.; Robert, Y.. Parallel algorithms. Boca Raton, Fla.: CRC Press, 2009. 335 p. \n",
    "- Wilkinson, B. and Allen, M. Parallel Programming: Techniques and Applications Using Networked Workdstations and Parallel Computers. Pearson Prentice Hall, 2005. \n",
    "- Quinn, M. J. Parallel programming: in C with MPI and openMP. Boston: McGraw-Hill/Higher Education, 2004. \n",
    "- Lin, C.; Snyder, L.. Principles of parallel programming. Boston: Pearson Addison Wesley, 2009."
   ]
  }
 ],
 "metadata": {
  "language_info": {
   "name": "python"
  },
  "orig_nbformat": 4
 },
 "nbformat": 4,
 "nbformat_minor": 2
}
